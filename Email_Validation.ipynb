{
  "nbformat": 4,
  "nbformat_minor": 0,
  "metadata": {
    "colab": {
      "name": "Email Validation.ipynb",
      "provenance": [],
      "collapsed_sections": [],
      "authorship_tag": "ABX9TyNtfERu8eLNyHz3BMg91NPg",
      "include_colab_link": true
    },
    "kernelspec": {
      "name": "python3",
      "display_name": "Python 3"
    },
    "language_info": {
      "name": "python"
    }
  },
  "cells": [
    {
      "cell_type": "markdown",
      "metadata": {
        "id": "view-in-github",
        "colab_type": "text"
      },
      "source": [
        "<a href=\"https://colab.research.google.com/github/Mehadi2012/Regular-Expression-in-Python/blob/main/Email_Validation.ipynb\" target=\"_parent\"><img src=\"https://colab.research.google.com/assets/colab-badge.svg\" alt=\"Open In Colab\"/></a>"
      ]
    },
    {
      "cell_type": "code",
      "source": [
        "import re"
      ],
      "metadata": {
        "id": "X2ZWsw4hjMee"
      },
      "execution_count": null,
      "outputs": []
    },
    {
      "cell_type": "code",
      "execution_count": null,
      "metadata": {
        "id": "GzaA1mKCfImO"
      },
      "outputs": [],
      "source": [
        "inputs = ['abacxf34@gmail.com', 'r_duke870@outlook.com','s.rog78o@outlook.com']"
      ]
    },
    {
      "cell_type": "code",
      "source": [
        "regex = '^(\\w|\\.|\\_|\\-)+[@]\\w+[.]\\w{2,3}$'"
      ],
      "metadata": {
        "id": "N0AGxxXZijEc"
      },
      "execution_count": null,
      "outputs": []
    },
    {
      "cell_type": "code",
      "source": [
        "[re.fullmatch(regex,x)for x in inputs]"
      ],
      "metadata": {
        "colab": {
          "base_uri": "https://localhost:8080/"
        },
        "id": "QRRr_1NfjQvI",
        "outputId": "195a8868-026e-4213-c19e-1fb313582066"
      },
      "execution_count": null,
      "outputs": [
        {
          "output_type": "execute_result",
          "data": {
            "text/plain": [
              "[<re.Match object; span=(0, 18), match='abacxf34@gmail.com'>,\n",
              " <re.Match object; span=(0, 21), match='r_duke870@outlook.com'>,\n",
              " <re.Match object; span=(0, 20), match='s.rog78o@outlook.com'>]"
            ]
          },
          "metadata": {},
          "execution_count": 4
        }
      ]
    },
    {
      "cell_type": "code",
      "source": [
        "inputs = ['aba$cxf34@gmail.com', 'r_duke870@outlook.coma','s.rog78o@outlook.com']"
      ],
      "metadata": {
        "id": "PbbWPb6MjfVL"
      },
      "execution_count": null,
      "outputs": []
    },
    {
      "cell_type": "code",
      "source": [
        "[re.fullmatch(regex,x)for x in inputs]"
      ],
      "metadata": {
        "colab": {
          "base_uri": "https://localhost:8080/"
        },
        "id": "mjkPeeQmjj0y",
        "outputId": "4a453438-63e7-46d8-cea0-fc153b5b32a8"
      },
      "execution_count": null,
      "outputs": [
        {
          "output_type": "execute_result",
          "data": {
            "text/plain": [
              "[None, None, <re.Match object; span=(0, 20), match='s.rog78o@outlook.com'>]"
            ]
          },
          "metadata": {},
          "execution_count": 6
        }
      ]
    },
    {
      "cell_type": "markdown",
      "source": [
        "#Username validation"
      ],
      "metadata": {
        "id": "0GWDZMl6jsX8"
      }
    },
    {
      "cell_type": "code",
      "source": [
        "inputs = ['m_hasan','m_mubin','m_nayem']"
      ],
      "metadata": {
        "id": "jWVvFYn_juG5"
      },
      "execution_count": null,
      "outputs": []
    },
    {
      "cell_type": "code",
      "source": [
        "regex = '^[a-zA-Z_.]+$'"
      ],
      "metadata": {
        "id": "gJgPO4uHj13u"
      },
      "execution_count": null,
      "outputs": []
    },
    {
      "cell_type": "code",
      "source": [
        "[re.fullmatch(regex,x)for x in inputs]"
      ],
      "metadata": {
        "colab": {
          "base_uri": "https://localhost:8080/"
        },
        "id": "4i9frfvWkAMS",
        "outputId": "678ed0e5-64e5-40fd-d254-51fc2a7ed723"
      },
      "execution_count": null,
      "outputs": [
        {
          "output_type": "execute_result",
          "data": {
            "text/plain": [
              "[<re.Match object; span=(0, 7), match='m_hasan'>,\n",
              " <re.Match object; span=(0, 7), match='m_mubin'>,\n",
              " <re.Match object; span=(0, 7), match='m_nayem'>]"
            ]
          },
          "metadata": {},
          "execution_count": 13
        }
      ]
    }
  ]
}