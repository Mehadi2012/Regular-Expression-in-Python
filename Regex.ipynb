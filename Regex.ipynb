{
  "nbformat": 4,
  "nbformat_minor": 0,
  "metadata": {
    "colab": {
      "name": "Regex.ipynb",
      "provenance": [],
      "authorship_tag": "ABX9TyPhuSQpyazYnzU4MWHls9YH",
      "include_colab_link": true
    },
    "kernelspec": {
      "name": "python3",
      "display_name": "Python 3"
    },
    "language_info": {
      "name": "python"
    }
  },
  "cells": [
    {
      "cell_type": "markdown",
      "metadata": {
        "id": "view-in-github",
        "colab_type": "text"
      },
      "source": [
        "<a href=\"https://colab.research.google.com/github/Mehadi2012/Regular-Expression-in-Python/blob/main/Regex.ipynb\" target=\"_parent\"><img src=\"https://colab.research.google.com/assets/colab-badge.svg\" alt=\"Open In Colab\"/></a>"
      ]
    },
    {
      "cell_type": "code",
      "execution_count": null,
      "metadata": {
        "id": "tpnorZmfEfDk"
      },
      "outputs": [],
      "source": [
        "import re"
      ]
    },
    {
      "cell_type": "markdown",
      "source": [
        "# Metacharacters\n",
        "^ $"
      ],
      "metadata": {
        "id": "p3V34sXVEqE5"
      }
    },
    {
      "cell_type": "code",
      "source": [
        "str = 'dogs are adorable'"
      ],
      "metadata": {
        "id": "u3H_hCGjElpV"
      },
      "execution_count": null,
      "outputs": []
    },
    {
      "cell_type": "code",
      "source": [
        "pat = '^dogs'"
      ],
      "metadata": {
        "id": "xwbJCx2TEur0"
      },
      "execution_count": null,
      "outputs": []
    },
    {
      "cell_type": "code",
      "source": [
        "re.search(pat,str)"
      ],
      "metadata": {
        "colab": {
          "base_uri": "https://localhost:8080/"
        },
        "id": "vXf6VlY2E945",
        "outputId": "5b19d8aa-9d9c-4a2e-cd02-8995ce804e89"
      },
      "execution_count": null,
      "outputs": [
        {
          "output_type": "execute_result",
          "data": {
            "text/plain": [
              "<re.Match object; span=(0, 4), match='dogs'>"
            ]
          },
          "metadata": {},
          "execution_count": 7
        }
      ]
    },
    {
      "cell_type": "code",
      "source": [
        "pat2 = 'dogs$'"
      ],
      "metadata": {
        "id": "RtmYGFSvFQWq"
      },
      "execution_count": null,
      "outputs": []
    },
    {
      "cell_type": "code",
      "source": [
        "print(re.search(pat2,str))"
      ],
      "metadata": {
        "colab": {
          "base_uri": "https://localhost:8080/"
        },
        "id": "jHabwhA8FWDv",
        "outputId": "d9c97199-a91e-4fbc-a69e-9493d9f80d38"
      },
      "execution_count": null,
      "outputs": [
        {
          "output_type": "stream",
          "name": "stdout",
          "text": [
            "None\n"
          ]
        }
      ]
    },
    {
      "cell_type": "code",
      "source": [
        ""
      ],
      "metadata": {
        "id": "XI2-Q-EKGylb"
      },
      "execution_count": null,
      "outputs": []
    },
    {
      "cell_type": "markdown",
      "source": [
        "# Quantifiers\n",
        "? + *"
      ],
      "metadata": {
        "id": "oipZjb16Fg-V"
      }
    },
    {
      "cell_type": "code",
      "source": [
        "str2 = 'color'\n",
        "str3 = 'colour'"
      ],
      "metadata": {
        "id": "WIp8u8AqFbjB"
      },
      "execution_count": null,
      "outputs": []
    },
    {
      "cell_type": "code",
      "source": [
        "re.search('colou?r',str2)"
      ],
      "metadata": {
        "colab": {
          "base_uri": "https://localhost:8080/"
        },
        "id": "_XHLnWGBFitA",
        "outputId": "a15317ef-36c3-4d05-8393-2ace9f3c26e2"
      },
      "execution_count": null,
      "outputs": [
        {
          "output_type": "execute_result",
          "data": {
            "text/plain": [
              "<re.Match object; span=(0, 5), match='color'>"
            ]
          },
          "metadata": {},
          "execution_count": 13
        }
      ]
    },
    {
      "cell_type": "code",
      "source": [
        "re.search('colou?r',str3)"
      ],
      "metadata": {
        "colab": {
          "base_uri": "https://localhost:8080/"
        },
        "id": "3TPBUVJiGHtw",
        "outputId": "0bbc3cab-03f5-4ea2-e896-736076392c58"
      },
      "execution_count": null,
      "outputs": [
        {
          "output_type": "execute_result",
          "data": {
            "text/plain": [
              "<re.Match object; span=(0, 6), match='colour'>"
            ]
          },
          "metadata": {},
          "execution_count": 14
        }
      ]
    },
    {
      "cell_type": "code",
      "source": [
        "str4 = 'ac'\n",
        "str5 = 'abc'\n",
        "str6 = 'abbc'"
      ],
      "metadata": {
        "id": "IGb7njHTGQi4"
      },
      "execution_count": null,
      "outputs": []
    },
    {
      "cell_type": "code",
      "source": [
        "print(re.search('ab+c',str4))"
      ],
      "metadata": {
        "colab": {
          "base_uri": "https://localhost:8080/"
        },
        "id": "MbyuhsNXGcp9",
        "outputId": "795f55cd-0d13-4168-ac0b-6d1dcecd83c0"
      },
      "execution_count": null,
      "outputs": [
        {
          "output_type": "stream",
          "name": "stdout",
          "text": [
            "None\n"
          ]
        }
      ]
    },
    {
      "cell_type": "code",
      "source": [
        "print(re.search('ab+c',str5))"
      ],
      "metadata": {
        "colab": {
          "base_uri": "https://localhost:8080/"
        },
        "id": "HbXfL9nUGl1h",
        "outputId": "8db0f563-eec4-4c75-b0bf-80a33766e29a"
      },
      "execution_count": null,
      "outputs": [
        {
          "output_type": "stream",
          "name": "stdout",
          "text": [
            "<re.Match object; span=(0, 3), match='abc'>\n"
          ]
        }
      ]
    },
    {
      "cell_type": "code",
      "source": [
        "print(re.search('ab+c',str6))"
      ],
      "metadata": {
        "colab": {
          "base_uri": "https://localhost:8080/"
        },
        "id": "I4Y11p1eGpSF",
        "outputId": "44c770fe-f059-42ae-b13c-a5ac5a536910"
      },
      "execution_count": null,
      "outputs": [
        {
          "output_type": "stream",
          "name": "stdout",
          "text": [
            "<re.Match object; span=(0, 4), match='abbc'>\n"
          ]
        }
      ]
    },
    {
      "cell_type": "markdown",
      "source": [
        "#Metachracters\n",
        "- ."
      ],
      "metadata": {
        "id": "YSdqngbjJHgY"
      }
    },
    {
      "cell_type": "markdown",
      "source": [
        "#Sets\n",
        "\n",
        "[]\n",
        "\n",
        "[^a-n]\n",
        "\n",
        "[01234]\n",
        "\n",
        "[0-9]\n",
        "\n",
        "[0-5][0-9]\n",
        "\n",
        "[a-Z]"
      ],
      "metadata": {
        "id": "f1oc718-I67P"
      }
    },
    {
      "cell_type": "code",
      "source": [
        "str = 'dogs are adorable'"
      ],
      "metadata": {
        "id": "ZCd8nhX3I722"
      },
      "execution_count": null,
      "outputs": []
    },
    {
      "cell_type": "code",
      "source": [
        "re.search('[a-d]',str)"
      ],
      "metadata": {
        "colab": {
          "base_uri": "https://localhost:8080/"
        },
        "id": "OazSL_jEKBKJ",
        "outputId": "243c159b-367d-4c41-f23c-600eb6af6dd7"
      },
      "execution_count": null,
      "outputs": [
        {
          "output_type": "execute_result",
          "data": {
            "text/plain": [
              "<re.Match object; span=(0, 1), match='d'>"
            ]
          },
          "metadata": {},
          "execution_count": 22
        }
      ]
    },
    {
      "cell_type": "code",
      "source": [
        "re.findall('[a-d]',str)"
      ],
      "metadata": {
        "colab": {
          "base_uri": "https://localhost:8080/"
        },
        "id": "WD2jrNHWKZjb",
        "outputId": "dff7c19a-c527-459a-a502-1fbc8fa40164"
      },
      "execution_count": null,
      "outputs": [
        {
          "output_type": "execute_result",
          "data": {
            "text/plain": [
              "['d', 'a', 'a', 'd', 'a', 'b']"
            ]
          },
          "metadata": {},
          "execution_count": 23
        }
      ]
    },
    {
      "cell_type": "code",
      "source": [
        "re.findall('[a-d]','dogs are adorable')"
      ],
      "metadata": {
        "colab": {
          "base_uri": "https://localhost:8080/"
        },
        "id": "HPHLsmZWKkTD",
        "outputId": "18dd7350-1fba-4239-e1e9-0e316f83dbf0"
      },
      "execution_count": null,
      "outputs": [
        {
          "output_type": "execute_result",
          "data": {
            "text/plain": [
              "['d', 'a', 'a', 'd', 'a', 'b']"
            ]
          },
          "metadata": {},
          "execution_count": 24
        }
      ]
    },
    {
      "cell_type": "markdown",
      "source": [
        "#Special Sequences\n",
        "\\d [0-9]\n",
        "\n",
        "\\w [0-9a-Z_]"
      ],
      "metadata": {
        "id": "WoDgDjrsKp2c"
      }
    },
    {
      "cell_type": "code",
      "source": [
        "re.search('\\d','my password is passs1234')"
      ],
      "metadata": {
        "colab": {
          "base_uri": "https://localhost:8080/"
        },
        "id": "CF-0tw67KsCd",
        "outputId": "e6660adf-c08c-4543-bc04-cedd174284bb"
      },
      "execution_count": null,
      "outputs": [
        {
          "output_type": "execute_result",
          "data": {
            "text/plain": [
              "<re.Match object; span=(20, 21), match='1'>"
            ]
          },
          "metadata": {},
          "execution_count": 26
        }
      ]
    },
    {
      "cell_type": "code",
      "source": [
        "re.findall('\\d','my password is passs1234')"
      ],
      "metadata": {
        "colab": {
          "base_uri": "https://localhost:8080/"
        },
        "id": "z8FC9BmgQSjU",
        "outputId": "7560e8c7-3f04-435b-daf8-950f6230822d"
      },
      "execution_count": null,
      "outputs": [
        {
          "output_type": "execute_result",
          "data": {
            "text/plain": [
              "['1', '2', '3', '4']"
            ]
          },
          "metadata": {},
          "execution_count": 27
        }
      ]
    },
    {
      "cell_type": "code",
      "source": [
        "re.findall('\\w','my password is passs1234')"
      ],
      "metadata": {
        "colab": {
          "base_uri": "https://localhost:8080/"
        },
        "id": "-JngvWnoQYPX",
        "outputId": "ff751075-d72f-4c42-a75d-01bdac9e6718"
      },
      "execution_count": null,
      "outputs": [
        {
          "output_type": "execute_result",
          "data": {
            "text/plain": [
              "['m',\n",
              " 'y',\n",
              " 'p',\n",
              " 'a',\n",
              " 's',\n",
              " 's',\n",
              " 'w',\n",
              " 'o',\n",
              " 'r',\n",
              " 'd',\n",
              " 'i',\n",
              " 's',\n",
              " 'p',\n",
              " 'a',\n",
              " 's',\n",
              " 's',\n",
              " 's',\n",
              " '1',\n",
              " '2',\n",
              " '3',\n",
              " '4']"
            ]
          },
          "metadata": {},
          "execution_count": 28
        }
      ]
    },
    {
      "cell_type": "markdown",
      "source": [
        "#Password Validation in Python(with regex)"
      ],
      "metadata": {
        "id": "O7AwO0UvQimF"
      }
    },
    {
      "cell_type": "code",
      "source": [
        "regex ='[A-Za-z0-9@#$%^&+=]{8,}'"
      ],
      "metadata": {
        "id": "haNDw45EQnvJ"
      },
      "execution_count": null,
      "outputs": []
    },
    {
      "cell_type": "code",
      "source": [
        "import re\n",
        "passw = input(\"Enter a password\")"
      ],
      "metadata": {
        "colab": {
          "base_uri": "https://localhost:8080/"
        },
        "id": "00gzW4nMRvWH",
        "outputId": "ca74d746-ec5b-4c61-88ce-27393040da25"
      },
      "execution_count": null,
      "outputs": [
        {
          "name": "stdout",
          "output_type": "stream",
          "text": [
            "Enter a passwordhey123456\n"
          ]
        }
      ]
    },
    {
      "cell_type": "code",
      "source": [
        "passw"
      ],
      "metadata": {
        "colab": {
          "base_uri": "https://localhost:8080/",
          "height": 35
        },
        "id": "i9cbUFRzSOPX",
        "outputId": "3cad1384-b44a-4593-e40e-90982405a5f9"
      },
      "execution_count": null,
      "outputs": [
        {
          "output_type": "execute_result",
          "data": {
            "text/plain": [
              "'hey123456'"
            ],
            "application/vnd.google.colaboratory.intrinsic+json": {
              "type": "string"
            }
          },
          "metadata": {},
          "execution_count": 43
        }
      ]
    },
    {
      "cell_type": "code",
      "source": [
        "re.fullmatch(regex,passw)"
      ],
      "metadata": {
        "colab": {
          "base_uri": "https://localhost:8080/"
        },
        "id": "IgZZYqn1SWTp",
        "outputId": "0f5f3ad8-d160-4ed1-fa5d-f00f5035b961"
      },
      "execution_count": null,
      "outputs": [
        {
          "output_type": "execute_result",
          "data": {
            "text/plain": [
              "<re.Match object; span=(0, 9), match='hey123456'>"
            ]
          },
          "metadata": {},
          "execution_count": 44
        }
      ]
    },
    {
      "cell_type": "code",
      "source": [
        "if re.fullmatch(regex,passw):\n",
        "  print(\"Congratulations, there is a match\")\n",
        "else:\n",
        "  print(\"sorry, there is no match\")"
      ],
      "metadata": {
        "colab": {
          "base_uri": "https://localhost:8080/"
        },
        "id": "Y7yUGSaVahZs",
        "outputId": "8452074e-a92b-429c-856d-dfb812ff1739"
      },
      "execution_count": null,
      "outputs": [
        {
          "output_type": "stream",
          "name": "stdout",
          "text": [
            "Congratulations, there is a match\n"
          ]
        }
      ]
    },
    {
      "cell_type": "code",
      "source": [
        "regex = '(?=.*[A-Z])(?=.*[a-z])(?=.*[0-9]{6,})'"
      ],
      "metadata": {
        "id": "l1dOqrlcax-6"
      },
      "execution_count": null,
      "outputs": []
    },
    {
      "cell_type": "code",
      "source": [
        "if re.fullmatch(regex,passw):\n",
        "  print(\"match,yahooo\")\n",
        "else:\n",
        "  print(\"sorry, no match\")"
      ],
      "metadata": {
        "colab": {
          "base_uri": "https://localhost:8080/"
        },
        "id": "5XU62DSebnc2",
        "outputId": "196268cf-ba69-48d6-dcad-6988db9c0093"
      },
      "execution_count": null,
      "outputs": [
        {
          "output_type": "stream",
          "name": "stdout",
          "text": [
            "sorry, no match\n"
          ]
        }
      ]
    },
    {
      "cell_type": "code",
      "source": [
        "inputs = ['18:29', '23:55', '123', 'ab:de', '18:299', '99:99']\n",
        "input1 = '12:455'\n",
        "input2 ='12:45'"
      ],
      "metadata": {
        "id": "KwmxNu42cIBF"
      },
      "execution_count": null,
      "outputs": []
    },
    {
      "cell_type": "code",
      "source": [
        "print(re.fullmatch('[0-9]{2}:[0-9]{2}',input1))"
      ],
      "metadata": {
        "colab": {
          "base_uri": "https://localhost:8080/"
        },
        "id": "ofA0qOqvc46D",
        "outputId": "5e551c38-6c3f-489c-b1f2-e299c0570ff1"
      },
      "execution_count": null,
      "outputs": [
        {
          "output_type": "stream",
          "name": "stdout",
          "text": [
            "None\n"
          ]
        }
      ]
    },
    {
      "cell_type": "code",
      "source": [
        "print(re.fullmatch('[0-9]{2}:[0-9]{2}',input2))"
      ],
      "metadata": {
        "colab": {
          "base_uri": "https://localhost:8080/"
        },
        "id": "B7ZKslZDdTBQ",
        "outputId": "b234c22f-89b8-496c-8086-1b2febb4081b"
      },
      "execution_count": null,
      "outputs": [
        {
          "output_type": "stream",
          "name": "stdout",
          "text": [
            "<re.Match object; span=(0, 5), match='12:45'>\n"
          ]
        }
      ]
    },
    {
      "cell_type": "code",
      "source": [
        "[re.fullmatch('[0-9]{2}:[0-9]{2}',x)for x in inputs]"
      ],
      "metadata": {
        "colab": {
          "base_uri": "https://localhost:8080/"
        },
        "id": "eQ2VOjREdn4K",
        "outputId": "a5b5225e-39cb-44d9-e2e1-c2a91fa05073"
      },
      "execution_count": null,
      "outputs": [
        {
          "output_type": "execute_result",
          "data": {
            "text/plain": [
              "[<re.Match object; span=(0, 5), match='18:29'>,\n",
              " <re.Match object; span=(0, 5), match='23:55'>,\n",
              " None,\n",
              " None,\n",
              " None,\n",
              " <re.Match object; span=(0, 5), match='99:99'>]"
            ]
          },
          "metadata": {},
          "execution_count": 56
        }
      ]
    },
    {
      "cell_type": "code",
      "source": [
        "regex = '([01][0-9]|2[0-3]):([0-5][0-9])'"
      ],
      "metadata": {
        "id": "-8_4U50Ad8JU"
      },
      "execution_count": null,
      "outputs": []
    },
    {
      "cell_type": "code",
      "source": [
        "[re.fullmatch(regex,x)for x in inputs]"
      ],
      "metadata": {
        "colab": {
          "base_uri": "https://localhost:8080/"
        },
        "id": "KIW8X1SUe3UH",
        "outputId": "027b5af6-7441-49fd-d7f2-2f90f62b85c0"
      },
      "execution_count": null,
      "outputs": [
        {
          "output_type": "execute_result",
          "data": {
            "text/plain": [
              "[<re.Match object; span=(0, 5), match='18:29'>,\n",
              " <re.Match object; span=(0, 5), match='23:55'>,\n",
              " None,\n",
              " None,\n",
              " None,\n",
              " None]"
            ]
          },
          "metadata": {},
          "execution_count": 58
        }
      ]
    }
  ]
}